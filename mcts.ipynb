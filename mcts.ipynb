{
 "cells": [
  {
   "cell_type": "code",
   "execution_count": 1,
   "metadata": {},
   "outputs": [],
   "source": [
    "import copy\n",
    "from tictactoe import TicTacToe\n",
    "\n",
    "class Node:\n",
    "    def __init__(self, state, prev=None):\n",
    "        self.prev = prev\n",
    "        self.state = state\n",
    "        self.nodes = []"
   ]
  },
  {
   "cell_type": "code",
   "execution_count": 2,
   "metadata": {},
   "outputs": [
    {
     "name": "stdout",
     "output_type": "stream",
     "text": [
      "0 0\n",
      "0 1\n",
      "0 2\n",
      "1 0\n",
      "1 1\n",
      "1 2\n",
      "2 0\n",
      "2 1\n",
      "2 2\n"
     ]
    }
   ],
   "source": [
    "root = Node(TicTacToe(), None)\n",
    "current = root\n",
    "\n",
    "for move_i, move_j in current.state.valid_moves():\n",
    "    current.nodes.append(Node(copy.deepcopy(current.state), current))\n",
    "    print(move_i, move_j)\n",
    "    current.nodes[-1].state.make_move(move_i, move_j)\n",
    "    "
   ]
  },
  {
   "cell_type": "code",
   "execution_count": 3,
   "metadata": {},
   "outputs": [
    {
     "name": "stdout",
     "output_type": "stream",
     "text": [
      "Board:\n",
      "X| | \n",
      "-----\n",
      " | | \n",
      "-----\n",
      " | | \n",
      "\n",
      "Board:\n",
      " |X| \n",
      "-----\n",
      " | | \n",
      "-----\n",
      " | | \n",
      "\n",
      "Board:\n",
      " | |X\n",
      "-----\n",
      " | | \n",
      "-----\n",
      " | | \n",
      "\n",
      "Board:\n",
      " | | \n",
      "-----\n",
      "X| | \n",
      "-----\n",
      " | | \n",
      "\n",
      "Board:\n",
      " | | \n",
      "-----\n",
      " |X| \n",
      "-----\n",
      " | | \n",
      "\n",
      "Board:\n",
      " | | \n",
      "-----\n",
      " | |X\n",
      "-----\n",
      " | | \n",
      "\n",
      "Board:\n",
      " | | \n",
      "-----\n",
      " | | \n",
      "-----\n",
      "X| | \n",
      "\n",
      "Board:\n",
      " | | \n",
      "-----\n",
      " | | \n",
      "-----\n",
      " |X| \n",
      "\n",
      "Board:\n",
      " | | \n",
      "-----\n",
      " | | \n",
      "-----\n",
      " | |X\n",
      "\n"
     ]
    }
   ],
   "source": [
    "for node in current.nodes:\n",
    "    print(\"Board:\")\n",
    "    node.state.print_board()\n",
    "    print()"
   ]
  },
  {
   "cell_type": "code",
   "execution_count": null,
   "metadata": {},
   "outputs": [],
   "source": []
  }
 ],
 "metadata": {
  "kernelspec": {
   "display_name": "Python 3",
   "language": "python",
   "name": "python3"
  },
  "language_info": {
   "codemirror_mode": {
    "name": "ipython",
    "version": 3
   },
   "file_extension": ".py",
   "mimetype": "text/x-python",
   "name": "python",
   "nbconvert_exporter": "python",
   "pygments_lexer": "ipython3",
   "version": "3.10.14"
  }
 },
 "nbformat": 4,
 "nbformat_minor": 2
}
